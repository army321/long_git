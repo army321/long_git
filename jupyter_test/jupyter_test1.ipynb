{
    "cells": [
        {
            "cell_type": "markdown",
            "source": [
                "记录常用的代码片段\r\n",
                "\r\n",
                "1.创建文件夹  在当前目录下创建一个文件夹，名字为传入的值。如果已有，则不处理。"
            ],
            "metadata": {}
        },
        {
            "cell_type": "code",
            "execution_count": 4,
            "source": [
                "def create_file_path(filePath):\r\n",
                "    if os.path.exists(filePath):\r\n",
                "        print(\"目录已生成：{}\".format(filePath))\r\n",
                "    else:\r\n",
                "        try:\r\n",
                "            os.mkdir(filePath)\r\n",
                "            print(\"新建文件夹：{}\".format(filePath))\r\n",
                "        except:\r\n",
                "            print(\"创建失败{}\".format(filePath))"
            ],
            "outputs": [],
            "metadata": {}
        },
        {
            "cell_type": "code",
            "execution_count": 13,
            "source": [
                "create_file_path(\"创建文件夹测试\")"
            ],
            "outputs": [
                {
                    "output_type": "stream",
                    "name": "stdout",
                    "text": [
                        "目录已生成：创建文件夹测试\n"
                    ]
                }
            ],
            "metadata": {}
        },
        {
            "cell_type": "markdown",
            "source": [
                "记录log\r\n"
            ],
            "metadata": {}
        },
        {
            "cell_type": "code",
            "execution_count": 26,
            "source": [
                "# 记录log,带时间\r\n",
                "import time\r\n",
                "def write_log(log):\r\n",
                "    get_time = time.strftime(\"%Y-%m-%d %X\",time.gmtime(time.time()))\r\n",
                "    with open(\"read_log.txt\", \"a\", encoding=\"utf-8\") as logfile:\r\n",
                "        logfile.write(\" {0}:  {1} \\n\".format(get_time,log))\r\n"
            ],
            "outputs": [],
            "metadata": {}
        },
        {
            "cell_type": "code",
            "execution_count": 145,
            "source": [
                "write_log(\"log txt\")"
            ],
            "outputs": [],
            "metadata": {}
        },
        {
            "cell_type": "markdown",
            "source": [
                "一个通用的随机排序算法\r\n",
                "\r\n",
                " Knuth-Shuffle，即 Knuth 洗牌算法。\r\n",
                " random.shuffle(txt_list) 系统自带的随机排序，会改变原数组\r\n",
                " 核心逻辑是1个数和这个数之后的数的随机一个替换，替换后自增1。 整个数组遍历一遍后，即洗牌成功。\r\n",
                " 参考文档：\r\n",
                " https://mp.weixin.qq.com/s?__biz=MzU4NTIxODYwMQ==&mid=2247484310&idx=1&sn=916f92afff6016256648cfb3c7fd83e7&chksm=fd8cacd0cafb25c670587f22524b111d74b4ddd9954070930b6ef6efb1bd8fba13d4250e57d8&token=885428195&lang=zh_CN#rd"
            ],
            "metadata": {}
        },
        {
            "cell_type": "code",
            "execution_count": 257,
            "source": [
                "import random\r\n",
                "\r\n",
                "# 随机洗牌算法 会改变原数组，如需不改变，可先复制一个。\r\n",
                "def knuth_shuffle(txt_list):\r\n",
                "    for i in range(len(txt_list) - 1, 0, -1):\r\n",
                "        get_random = random.randint(0, i)\r\n",
                "        # print(\"i = {0}, get_random ={2}\".format(i,len(txt_list),get_random))\r\n",
                "        txt_list[i], txt_list[get_random] = txt_list[get_random], txt_list[i]\r\n",
                "\r\n",
                "    return txt_list\r\n"
            ],
            "outputs": [],
            "metadata": {}
        },
        {
            "cell_type": "code",
            "execution_count": 256,
            "source": [
                "import random\r\n",
                "\r\n",
                "# 随机洗牌算法 从小到大替换\r\n",
                "def knuth_shuffle_1(txt_list):\r\n",
                "    for i in range(len(txt_list)):\r\n",
                "        get_random = random.randint(i, len(txt_list)) - 1\r\n",
                "        # print(\"i = {0}, get_random ={2},len = {1}\".format(i, len(txt_list), get_random))\r\n",
                "        txt_list[i], txt_list[get_random] = txt_list[get_random], txt_list[i]\r\n",
                "\r\n",
                "    return txt_list\r\n"
            ],
            "outputs": [],
            "metadata": {}
        },
        {
            "cell_type": "code",
            "execution_count": 254,
            "source": [
                "\r\n",
                "# 生成一个数组\r\n",
                "txt_list = []\r\n",
                "for i in range(0, 16):\r\n",
                "    txt_list.append(i)\r\n",
                "# print(txt_list)\r\n",
                "# random.shuffle(txt_list)\r\n"
            ],
            "outputs": [],
            "metadata": {}
        },
        {
            "cell_type": "code",
            "execution_count": 258,
            "source": [
                "# 测试用  重复执行x遍\r\n",
                "new_list = []\r\n",
                "for i in txt_list:\r\n",
                "    new_list.append(i)\r\n",
                "\r\n",
                "for k in range(2):\r\n",
                "    # print('初始： {}'.format(txt_list))\r\n",
                "    k = knuth_shuffle(new_list)\r\n",
                "    l = knuth_shuffle_1(txt_list)\r\n",
                "    print(k)\r\n",
                "    print(l)\r\n"
            ],
            "outputs": [
                {
                    "output_type": "stream",
                    "name": "stdout",
                    "text": [
                        "[3, 12, 11, 15, 14, 4, 6, 1, 10, 0, 13, 8, 9, 7, 5, 2]\n",
                        "[3, 2, 8, 9, 15, 1, 10, 7, 11, 14, 5, 13, 4, 12, 6, 0]\n",
                        "[7, 3, 13, 6, 0, 9, 10, 14, 2, 5, 8, 15, 1, 12, 4, 11]\n",
                        "[4, 12, 8, 15, 13, 11, 6, 9, 7, 5, 1, 3, 0, 2, 10, 14]\n"
                    ]
                }
            ],
            "metadata": {}
        },
        {
            "cell_type": "markdown",
            "source": [
                "获取文件夹下所有文件名\r\n",
                "os.listdir 返回的是一个list , 可以用文本拼接成一段文本。 方便导出查看"
            ],
            "metadata": {}
        },
        {
            "cell_type": "code",
            "execution_count": 272,
            "source": [
                "import os\r\n",
                "def get_path_file_name(path):\r\n",
                "    filePath = path\r\n",
                "    file_name = os.listdir((filePath))\r\n",
                "    sql_txt =''\r\n",
                "    for i in file_name:\r\n",
                "        sql_txt = sql_txt+ (\"{} \\n\".format(i))\r\n",
                "    print(sql_txt)\r\n",
                "\r\n",
                "in_path = ''\r\n",
                "get_path_file_name(in_path)"
            ],
            "outputs": [
                {
                    "output_type": "error",
                    "ename": "FileNotFoundError",
                    "evalue": "[WinError 3] 系统找不到指定的路径。: ''",
                    "traceback": [
                        "\u001b[1;31m---------------------------------------------------------------------------\u001b[0m",
                        "\u001b[1;31mFileNotFoundError\u001b[0m                         Traceback (most recent call last)",
                        "\u001b[1;32mC:\\Users\\ADMINI~1\\AppData\\Local\\Temp/ipykernel_12124/928758636.py\u001b[0m in \u001b[0;36m<module>\u001b[1;34m\u001b[0m\n\u001b[0;32m      9\u001b[0m \u001b[1;33m\u001b[0m\u001b[0m\n\u001b[0;32m     10\u001b[0m \u001b[0min_path\u001b[0m \u001b[1;33m=\u001b[0m \u001b[1;34m''\u001b[0m\u001b[1;33m\u001b[0m\u001b[1;33m\u001b[0m\u001b[0m\n\u001b[1;32m---> 11\u001b[1;33m \u001b[0mget_path_file_name\u001b[0m\u001b[1;33m(\u001b[0m\u001b[0min_path\u001b[0m\u001b[1;33m)\u001b[0m\u001b[1;33m\u001b[0m\u001b[1;33m\u001b[0m\u001b[0m\n\u001b[0m",
                        "\u001b[1;32mC:\\Users\\ADMINI~1\\AppData\\Local\\Temp/ipykernel_12124/928758636.py\u001b[0m in \u001b[0;36mget_path_file_name\u001b[1;34m(path)\u001b[0m\n\u001b[0;32m      2\u001b[0m \u001b[1;32mdef\u001b[0m \u001b[0mget_path_file_name\u001b[0m\u001b[1;33m(\u001b[0m\u001b[0mpath\u001b[0m\u001b[1;33m)\u001b[0m\u001b[1;33m:\u001b[0m\u001b[1;33m\u001b[0m\u001b[1;33m\u001b[0m\u001b[0m\n\u001b[0;32m      3\u001b[0m     \u001b[0mfilePath\u001b[0m \u001b[1;33m=\u001b[0m \u001b[0mpath\u001b[0m\u001b[1;33m\u001b[0m\u001b[1;33m\u001b[0m\u001b[0m\n\u001b[1;32m----> 4\u001b[1;33m     \u001b[0mfile_name\u001b[0m \u001b[1;33m=\u001b[0m \u001b[0mos\u001b[0m\u001b[1;33m.\u001b[0m\u001b[0mlistdir\u001b[0m\u001b[1;33m(\u001b[0m\u001b[1;33m(\u001b[0m\u001b[0mfilePath\u001b[0m\u001b[1;33m)\u001b[0m\u001b[1;33m)\u001b[0m\u001b[1;33m\u001b[0m\u001b[1;33m\u001b[0m\u001b[0m\n\u001b[0m\u001b[0;32m      5\u001b[0m     \u001b[0msql_txt\u001b[0m \u001b[1;33m=\u001b[0m\u001b[1;34m''\u001b[0m\u001b[1;33m\u001b[0m\u001b[1;33m\u001b[0m\u001b[0m\n\u001b[0;32m      6\u001b[0m     \u001b[1;32mfor\u001b[0m \u001b[0mi\u001b[0m \u001b[1;32min\u001b[0m \u001b[0mfile_name\u001b[0m\u001b[1;33m:\u001b[0m\u001b[1;33m\u001b[0m\u001b[1;33m\u001b[0m\u001b[0m\n",
                        "\u001b[1;31mFileNotFoundError\u001b[0m: [WinError 3] 系统找不到指定的路径。: ''"
                    ]
                }
            ],
            "metadata": {}
        }
    ],
    "metadata": {
        "orig_nbformat": 4,
        "language_info": {
            "name": "python",
            "version": "3.8.7",
            "mimetype": "text/x-python",
            "codemirror_mode": {
                "name": "ipython",
                "version": 3
            },
            "pygments_lexer": "ipython3",
            "nbconvert_exporter": "python",
            "file_extension": ".py"
        },
        "kernelspec": {
            "name": "python3",
            "display_name": "Python 3.8.7 64-bit"
        },
        "interpreter": {
            "hash": "004de6046f1b3d314f33fdb43a2dc798b2646e5600efd8df5066c8b63a00ff6d"
        }
    },
    "nbformat": 4,
    "nbformat_minor": 2
}