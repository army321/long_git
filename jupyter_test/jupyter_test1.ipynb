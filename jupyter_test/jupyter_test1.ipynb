{
    "cells": [
        {
            "cell_type": "markdown",
            "metadata": {},
            "source": [
                "装饰器学习"
            ]
        },
        {
            "cell_type": "code",
            "execution_count": 3,
            "metadata": {},
            "outputs": [
                {
                    "name": "stdout",
                    "output_type": "stream",
                    "text": [
                        "step1.......\n",
                        "step1 used 1.0086557865142822\n",
                        "我走了##33步\n",
                        "step2 used 1.0133531093597412\n",
                        "step3 used 1.0118918418884277\n",
                        "8\n"
                    ]
                }
            ],
            "source": [
                "import time\n",
                "\n",
                "\n",
                "def timer(func):\n",
                "    '''统计函数运行时间的装饰器，加了1秒的延迟。'''\n",
                "    def wrapper(*args,**kwargs):\n",
                "        start = time.time()\n",
                "        time.sleep(1)\n",
                "        ret_value = func(*args,**kwargs)\n",
                "        end = time.time()\n",
                "        used_time = end - start\n",
                "        print(f'{func.__name__} used {used_time}')\n",
                "        return ret_value\n",
                "    return wrapper\n",
                "\n",
                "\n",
                "@timer\n",
                "def step1():\n",
                "    print(\"step1.......\")\n",
                "\n",
                "\n",
                "@timer\n",
                "def step2(num):\n",
                "    print(f\"我走了##{num}步\")\n",
                "\n",
                "@timer\n",
                "def step3(num1,num2):\n",
                "    return num1+num2\n",
                "\n",
                "\n",
                "step1()\n",
                "step2(33)\n",
                "\n",
                "sum  = step3(3,5)\n",
                "print(sum)\n"
            ]
        },
        {
            "cell_type": "code",
            "execution_count": 12,
            "metadata": {},
            "outputs": [
                {
                    "name": "stdout",
                    "output_type": "stream",
                    "text": [
                        "314.15000000000003\n",
                        "5968.85\n"
                    ]
                }
            ],
            "source": [
                "# from msilib.schema import SelfReg\n",
                "# from re import L\n",
                "\n",
                "\n",
                "class Circle:\n",
                "    def __init__(self, radius):\n",
                "        self._radius = radius\n",
                "\n",
                "    @property\n",
                "    def radius(self):\n",
                "        return self._radius\n",
                "\n",
                "    @radius.setter\n",
                "    def radius(self, value):\n",
                "        if value >= 0:\n",
                "            self._radius = value\n",
                "        else:\n",
                "            raise ValueError(\"radius must be positive\")\n",
                "\n",
                "    @property\n",
                "    def area(self):\n",
                "        return self.pi()*self.radius**2\n",
                "\n",
                "    def cylinder_volume(self, height):\n",
                "        return self.area * height\n",
                "\n",
                "    @classmethod\n",
                "    def unit_cricle(cls):\n",
                "        return cls(1)\n",
                "\n",
                "    @staticmethod\n",
                "    def pi():\n",
                "        return 3.1415\n",
                "\n",
                "# 调用类的时候，初始化传值进去\n",
                "# 如果里面要值的化，用的时候把值传进去。\n",
                "a = Circle(10)\n",
                "print(a.area)\n",
                "print(a.cylinder_volume(19))\n"
            ]
        },
        {
            "cell_type": "code",
            "execution_count": 14,
            "metadata": {},
            "outputs": [
                {
                    "name": "stdout",
                    "output_type": "stream",
                    "text": [
                        "add:(1, 3),{}\n",
                        "add return 4\n",
                        "add:(3, 55),{}\n",
                        "add return 58\n"
                    ]
                },
                {
                    "data": {
                        "text/plain": [
                            "58"
                        ]
                    },
                    "execution_count": 14,
                    "metadata": {},
                    "output_type": "execute_result"
                }
            ],
            "source": [
                "def debug(func):\n",
                "    '''调试代码。'''\n",
                "    def wrapper_debug(*args, **kwargs):\n",
                "        print(f'{func.__name__}:{args},{kwargs}')\n",
                "\n",
                "        ret_value = func(*args, **kwargs)\n",
                "\n",
                "        print(f'{func.__name__} return {ret_value}')\n",
                "        return ret_value\n",
                "    return wrapper_debug\n",
                "\n",
                "\n",
                "@debug\n",
                "def add(a, b):\n",
                "    return(a + b)\n",
                "\n",
                "\n",
                "add(1, 3)\n",
                "add(3, 55)\n"
            ]
        },
        {
            "cell_type": "markdown",
            "metadata": {},
            "source": [
                "记录常用的代码片段\n",
                "\n",
                "1.创建文件夹  在当前目录下创建一个文件夹，名字为传入的值。如果已有，则不处理。"
            ]
        },
        {
            "cell_type": "code",
            "execution_count": 4,
            "metadata": {},
            "outputs": [],
            "source": [
                "def create_file_path(filePath):\n",
                "    if os.path.exists(filePath):\n",
                "        print(\"目录已生成：{}\".format(filePath))\n",
                "    else:\n",
                "        try:\n",
                "            os.mkdir(filePath)\n",
                "            print(\"新建文件夹：{}\".format(filePath))\n",
                "        except:\n",
                "            print(\"创建失败{}\".format(filePath))"
            ]
        },
        {
            "cell_type": "code",
            "execution_count": 13,
            "metadata": {},
            "outputs": [
                {
                    "name": "stdout",
                    "output_type": "stream",
                    "text": [
                        "目录已生成：创建文件夹测试\n"
                    ]
                }
            ],
            "source": [
                "create_file_path(\"创建文件夹测试\")"
            ]
        },
        {
            "cell_type": "markdown",
            "metadata": {},
            "source": [
                "记录log\n"
            ]
        },
        {
            "cell_type": "code",
            "execution_count": null,
            "metadata": {},
            "outputs": [
                {
                    "ename": "",
                    "evalue": "",
                    "output_type": "error",
                    "traceback": [
                        "\u001b[1;31mPython 3.10.5 64-bit (windows store) 需要安装 ipykernel。\n",
                        "Run the following command to install 'ipykernel' into the Python environment. \n",
                        "Command: 'c:/Users/Administrator/AppData/Local/Microsoft/WindowsApps/python3.10.exe -m pip install ipykernel -U --user --force-reinstall'"
                    ]
                }
            ],
            "source": [
                "# 记录log,带时间\n",
                "import time\n",
                "def write_log(log):\n",
                "    get_time = time.strftime(\"%Y-%m-%d %X\",time.gmtime(time.time()))\n",
                "    with open(\"read_log.txt\", \"a\", encoding=\"utf-8\") as logfile:\n",
                "        logfile.write(\" {0}:  {1} \\n\".format(get_time,log))\n"
            ]
        },
        {
            "cell_type": "code",
            "execution_count": 145,
            "metadata": {},
            "outputs": [],
            "source": [
                "write_log(\"log txt\")"
            ]
        },
        {
            "cell_type": "markdown",
            "metadata": {},
            "source": [
                "一个通用的随机排序算法\n",
                "\n",
                " Knuth-Shuffle，即 Knuth 洗牌算法。\n",
                " random.shuffle(txt_list) 系统自带的随机排序，会改变原数组\n",
                " 核心逻辑是1个数和这个数之后的数的随机一个替换，替换后自增1。 整个数组遍历一遍后，即洗牌成功。\n",
                " 参考文档：\n",
                " https://mp.weixin.qq.com/s?__biz=MzU4NTIxODYwMQ==&mid=2247484310&idx=1&sn=916f92afff6016256648cfb3c7fd83e7&chksm=fd8cacd0cafb25c670587f22524b111d74b4ddd9954070930b6ef6efb1bd8fba13d4250e57d8&token=885428195&lang=zh_CN#rd"
            ]
        },
        {
            "cell_type": "code",
            "execution_count": 257,
            "metadata": {},
            "outputs": [],
            "source": [
                "import random\n",
                "\n",
                "# 随机洗牌算法 会改变原数组，如需不改变，可先复制一个。\n",
                "def knuth_shuffle(txt_list):\n",
                "    for i in range(len(txt_list) - 1, 0, -1):\n",
                "        get_random = random.randint(0, i)\n",
                "        # print(\"i = {0}, get_random ={2}\".format(i,len(txt_list),get_random))\n",
                "        txt_list[i], txt_list[get_random] = txt_list[get_random], txt_list[i]\n",
                "\n",
                "    return txt_list\n"
            ]
        },
        {
            "cell_type": "code",
            "execution_count": 256,
            "metadata": {},
            "outputs": [],
            "source": [
                "import random\n",
                "\n",
                "# 随机洗牌算法 从小到大替换\n",
                "def knuth_shuffle_1(txt_list):\n",
                "    for i in range(len(txt_list)):\n",
                "        get_random = random.randint(i, len(txt_list)) - 1\n",
                "        # print(\"i = {0}, get_random ={2},len = {1}\".format(i, len(txt_list), get_random))\n",
                "        txt_list[i], txt_list[get_random] = txt_list[get_random], txt_list[i]\n",
                "\n",
                "    return txt_list\n"
            ]
        },
        {
            "cell_type": "code",
            "execution_count": 254,
            "metadata": {},
            "outputs": [],
            "source": [
                "\n",
                "# 生成一个数组\n",
                "txt_list = []\n",
                "for i in range(0, 16):\n",
                "    txt_list.append(i)\n",
                "# print(txt_list)\n",
                "# random.shuffle(txt_list)\n"
            ]
        },
        {
            "cell_type": "code",
            "execution_count": 258,
            "metadata": {},
            "outputs": [
                {
                    "name": "stdout",
                    "output_type": "stream",
                    "text": [
                        "[3, 12, 11, 15, 14, 4, 6, 1, 10, 0, 13, 8, 9, 7, 5, 2]\n",
                        "[3, 2, 8, 9, 15, 1, 10, 7, 11, 14, 5, 13, 4, 12, 6, 0]\n",
                        "[7, 3, 13, 6, 0, 9, 10, 14, 2, 5, 8, 15, 1, 12, 4, 11]\n",
                        "[4, 12, 8, 15, 13, 11, 6, 9, 7, 5, 1, 3, 0, 2, 10, 14]\n"
                    ]
                }
            ],
            "source": [
                "# 测试用  重复执行x遍\n",
                "new_list = []\n",
                "for i in txt_list:\n",
                "    new_list.append(i)\n",
                "\n",
                "for k in range(2):\n",
                "    # print('初始： {}'.format(txt_list))\n",
                "    k = knuth_shuffle(new_list)\n",
                "    l = knuth_shuffle_1(txt_list)\n",
                "    print(k)\n",
                "    print(l)\n"
            ]
        },
        {
            "cell_type": "markdown",
            "metadata": {},
            "source": [
                "获取文件夹下所有文件名\n",
                "os.listdir 返回的是一个list , 可以用文本拼接成一段文本。 方便导出查看"
            ]
        },
        {
            "cell_type": "code",
            "execution_count": 272,
            "metadata": {},
            "outputs": [
                {
                    "ename": "FileNotFoundError",
                    "evalue": "[WinError 3] 系统找不到指定的路径。: ''",
                    "output_type": "error",
                    "traceback": [
                        "\u001b[1;31m---------------------------------------------------------------------------\u001b[0m",
                        "\u001b[1;31mFileNotFoundError\u001b[0m                         Traceback (most recent call last)",
                        "\u001b[1;32mC:\\Users\\ADMINI~1\\AppData\\Local\\Temp/ipykernel_12124/928758636.py\u001b[0m in \u001b[0;36m<module>\u001b[1;34m\u001b[0m\n\u001b[0;32m      9\u001b[0m \u001b[1;33m\u001b[0m\u001b[0m\n\u001b[0;32m     10\u001b[0m \u001b[0min_path\u001b[0m \u001b[1;33m=\u001b[0m \u001b[1;34m''\u001b[0m\u001b[1;33m\u001b[0m\u001b[1;33m\u001b[0m\u001b[0m\n\u001b[1;32m---> 11\u001b[1;33m \u001b[0mget_path_file_name\u001b[0m\u001b[1;33m(\u001b[0m\u001b[0min_path\u001b[0m\u001b[1;33m)\u001b[0m\u001b[1;33m\u001b[0m\u001b[1;33m\u001b[0m\u001b[0m\n\u001b[0m",
                        "\u001b[1;32mC:\\Users\\ADMINI~1\\AppData\\Local\\Temp/ipykernel_12124/928758636.py\u001b[0m in \u001b[0;36mget_path_file_name\u001b[1;34m(path)\u001b[0m\n\u001b[0;32m      2\u001b[0m \u001b[1;32mdef\u001b[0m \u001b[0mget_path_file_name\u001b[0m\u001b[1;33m(\u001b[0m\u001b[0mpath\u001b[0m\u001b[1;33m)\u001b[0m\u001b[1;33m:\u001b[0m\u001b[1;33m\u001b[0m\u001b[1;33m\u001b[0m\u001b[0m\n\u001b[0;32m      3\u001b[0m     \u001b[0mfilePath\u001b[0m \u001b[1;33m=\u001b[0m \u001b[0mpath\u001b[0m\u001b[1;33m\u001b[0m\u001b[1;33m\u001b[0m\u001b[0m\n\u001b[1;32m----> 4\u001b[1;33m     \u001b[0mfile_name\u001b[0m \u001b[1;33m=\u001b[0m \u001b[0mos\u001b[0m\u001b[1;33m.\u001b[0m\u001b[0mlistdir\u001b[0m\u001b[1;33m(\u001b[0m\u001b[1;33m(\u001b[0m\u001b[0mfilePath\u001b[0m\u001b[1;33m)\u001b[0m\u001b[1;33m)\u001b[0m\u001b[1;33m\u001b[0m\u001b[1;33m\u001b[0m\u001b[0m\n\u001b[0m\u001b[0;32m      5\u001b[0m     \u001b[0msql_txt\u001b[0m \u001b[1;33m=\u001b[0m\u001b[1;34m''\u001b[0m\u001b[1;33m\u001b[0m\u001b[1;33m\u001b[0m\u001b[0m\n\u001b[0;32m      6\u001b[0m     \u001b[1;32mfor\u001b[0m \u001b[0mi\u001b[0m \u001b[1;32min\u001b[0m \u001b[0mfile_name\u001b[0m\u001b[1;33m:\u001b[0m\u001b[1;33m\u001b[0m\u001b[1;33m\u001b[0m\u001b[0m\n",
                        "\u001b[1;31mFileNotFoundError\u001b[0m: [WinError 3] 系统找不到指定的路径。: ''"
                    ]
                }
            ],
            "source": [
                "import os\n",
                "def get_path_file_name(path):\n",
                "    filePath = path\n",
                "    file_name = os.listdir((filePath))\n",
                "    sql_txt =''\n",
                "    for i in file_name:\n",
                "        sql_txt = sql_txt+ (\"{} \\n\".format(i))\n",
                "    print(sql_txt)\n",
                "\n",
                "in_path = ''\n",
                "get_path_file_name(in_path)"
            ]
        }
    ],
    "metadata": {
        "kernelspec": {
            "display_name": "Python 3.10.5 64-bit",
            "language": "python",
            "name": "python3"
        },
        "language_info": {
            "codemirror_mode": {
                "name": "ipython",
                "version": 3
            },
            "file_extension": ".py",
            "mimetype": "text/x-python",
            "name": "python",
            "nbconvert_exporter": "python",
            "pygments_lexer": "ipython3",
            "version": "3.10.5"
        },
        "orig_nbformat": 4,
        "vscode": {
            "interpreter": {
                "hash": "3196968d684371006099b3d55edeef8ed90365227a30deaef86e5d4aa8519be0"
            }
        }
    },
    "nbformat": 4,
    "nbformat_minor": 2
}
